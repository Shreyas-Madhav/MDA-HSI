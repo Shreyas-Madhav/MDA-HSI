{
 "cells": [
  {
   "cell_type": "code",
   "execution_count": 1,
   "metadata": {},
   "outputs": [],
   "source": [
    "import numpy as np\n",
    "import pandas as pd\n",
    "import matplotlib.pyplot as plt\n",
    "import seaborn as sns\n",
    "import os\n",
    "import scipy.io as sio\n",
    "from keras.utils import np_utils\n",
    "\n",
    "%matplotlib inline\n",
    "\n",
    "from sklearn.model_selection import train_test_split\n",
    "from sklearn.metrics import confusion_matrix, classification_report, accuracy_score, cohen_kappa_score\n",
    "from sklearn.decomposition import PCA\n",
    "\n",
    "from keras.models import Sequential\n",
    "from keras.layers import Conv2D, MaxPool2D, Flatten, Dense, Reshape, Dropout\n",
    "from keras.layers.normalization import BatchNormalization\n",
    "from keras import optimizers\n",
    "\n",
    "from keras.optimizers import Adam\n",
    "from keras.callbacks import ModelCheckpoint, EarlyStopping\n",
    "\n",
    "import cv2\n",
    "from skimage.util import view_as_windows"
   ]
  },
  {
   "cell_type": "code",
   "execution_count": 2,
   "metadata": {},
   "outputs": [],
   "source": [
    "from config.utils import *\n",
    "from config.models import *"
   ]
  },
  {
   "cell_type": "code",
   "execution_count": 3,
   "metadata": {},
   "outputs": [],
   "source": [
    "######### GLOBAL PARAMETERS #########\n",
    "dataset = 'IP'\n",
    "testSize = 0.75\n",
    "windowSize = 25\n",
    "K = 30 if dataset == 'IP' else 15\n",
    "EPOCHS = 20\n",
    "######### GLOBAL PARAMETERS #########"
   ]
  },
  {
   "cell_type": "code",
   "execution_count": 4,
   "metadata": {},
   "outputs": [],
   "source": [
    "X, Y = loadData(dataset)"
   ]
  },
  {
   "cell_type": "code",
   "execution_count": 5,
   "metadata": {},
   "outputs": [],
   "source": [
    "units, target_names = targets(dataset)"
   ]
  },
  {
   "cell_type": "code",
   "execution_count": 6,
   "metadata": {},
   "outputs": [
    {
     "data": {
      "text/plain": [
       "(145, 145, 200)"
      ]
     },
     "execution_count": 6,
     "metadata": {},
     "output_type": "execute_result"
    }
   ],
   "source": [
    "X.shape"
   ]
  },
  {
   "cell_type": "code",
   "execution_count": 7,
   "metadata": {},
   "outputs": [
    {
     "data": {
      "text/plain": [
       "(145, 145)"
      ]
     },
     "execution_count": 7,
     "metadata": {},
     "output_type": "execute_result"
    }
   ],
   "source": [
    "Y.shape"
   ]
  },
  {
   "cell_type": "code",
   "execution_count": 8,
   "metadata": {},
   "outputs": [
    {
     "name": "stdout",
     "output_type": "stream",
     "text": [
      "X.shape (145, 145, 30)\n",
      "y.shape (145, 145)\n"
     ]
    }
   ],
   "source": [
    "X,pca = applyPCA(X,N=K)\n",
    "ev=pca.explained_variance_ratio_\n",
    "print('X.shape',X.shape)\n",
    "print('y.shape',Y.shape)"
   ]
  },
  {
   "cell_type": "code",
   "execution_count": 9,
   "metadata": {},
   "outputs": [],
   "source": [
    "X , Y = createImageCubes(X,Y,windowSize=windowSize)"
   ]
  },
  {
   "cell_type": "code",
   "execution_count": 10,
   "metadata": {},
   "outputs": [
    {
     "name": "stdout",
     "output_type": "stream",
     "text": [
      "X.shape (10249, 25, 25, 30)\n",
      "y.shape (10249,)\n"
     ]
    }
   ],
   "source": [
    "print('X.shape',X.shape)\n",
    "print('y.shape',Y.shape)"
   ]
  },
  {
   "cell_type": "code",
   "execution_count": 11,
   "metadata": {},
   "outputs": [],
   "source": [
    "X_Train , X_Test , Y_Train, Y_Test = train_test_split(X,Y,test_size=testSize,random_state=345)"
   ]
  },
  {
   "cell_type": "code",
   "execution_count": 12,
   "metadata": {},
   "outputs": [
    {
     "data": {
      "text/plain": [
       "(2562, 16)"
      ]
     },
     "execution_count": 12,
     "metadata": {},
     "output_type": "execute_result"
    }
   ],
   "source": [
    "Y_Train = np_utils.to_categorical(Y_Train)\n",
    "Y_Train.shape"
   ]
  },
  {
   "cell_type": "code",
   "execution_count": 13,
   "metadata": {},
   "outputs": [
    {
     "data": {
      "text/plain": [
       "(2562, 25, 25, 30, 1)"
      ]
     },
     "execution_count": 13,
     "metadata": {},
     "output_type": "execute_result"
    }
   ],
   "source": [
    "X_Train = X_Train.reshape(-1, windowSize, windowSize, K, 1)\n",
    "X_Train.shape"
   ]
  },
  {
   "cell_type": "code",
   "execution_count": 14,
   "metadata": {},
   "outputs": [
    {
     "data": {
      "text/plain": [
       "(7687, 25, 25, 30, 1)"
      ]
     },
     "execution_count": 14,
     "metadata": {},
     "output_type": "execute_result"
    }
   ],
   "source": [
    "X_Test = X_Test.reshape(-1, windowSize, windowSize, K, 1)\n",
    "X_Test.shape"
   ]
  },
  {
   "cell_type": "code",
   "execution_count": 15,
   "metadata": {},
   "outputs": [
    {
     "data": {
      "text/plain": [
       "(7687, 16)"
      ]
     },
     "execution_count": 15,
     "metadata": {},
     "output_type": "execute_result"
    }
   ],
   "source": [
    "Y_Test = np_utils.to_categorical(Y_Test)\n",
    "Y_Test.shape"
   ]
  },
  {
   "cell_type": "code",
   "execution_count": 16,
   "metadata": {},
   "outputs": [
    {
     "data": {
      "text/plain": [
       "(2562, 25, 25, 30, 1)"
      ]
     },
     "execution_count": 16,
     "metadata": {},
     "output_type": "execute_result"
    }
   ],
   "source": [
    "X_Train.shape"
   ]
  },
  {
   "cell_type": "code",
   "execution_count": 17,
   "metadata": {},
   "outputs": [],
   "source": [
    "Model = make_3d_1(units, dataset)"
   ]
  },
  {
   "cell_type": "code",
   "execution_count": 18,
   "metadata": {},
   "outputs": [
    {
     "name": "stdout",
     "output_type": "stream",
     "text": [
      "Model: \"sequential\"\n",
      "_________________________________________________________________\n",
      "Layer (type)                 Output Shape              Param #   \n",
      "=================================================================\n",
      "conv3d (Conv3D)              (None, 23, 23, 26, 8)     368       \n",
      "_________________________________________________________________\n",
      "conv3d_1 (Conv3D)            (None, 21, 21, 24, 16)    3472      \n",
      "_________________________________________________________________\n",
      "max_pooling3d (MaxPooling3D) (None, 10, 10, 12, 16)    0         \n",
      "_________________________________________________________________\n",
      "batch_normalization (BatchNo (None, 10, 10, 12, 16)    64        \n",
      "_________________________________________________________________\n",
      "reshape (Reshape)            (None, 10, 10, 192)       0         \n",
      "_________________________________________________________________\n",
      "conv2d (Conv2D)              (None, 8, 8, 64)          110656    \n",
      "_________________________________________________________________\n",
      "flatten (Flatten)            (None, 4096)              0         \n",
      "_________________________________________________________________\n",
      "dense (Dense)                (None, 256)               1048832   \n",
      "_________________________________________________________________\n",
      "dropout (Dropout)            (None, 256)               0         \n",
      "_________________________________________________________________\n",
      "dense_1 (Dense)              (None, 128)               32896     \n",
      "_________________________________________________________________\n",
      "dropout_1 (Dropout)          (None, 128)               0         \n",
      "_________________________________________________________________\n",
      "dense_2 (Dense)              (None, 16)                2064      \n",
      "=================================================================\n",
      "Total params: 1,198,352\n",
      "Trainable params: 1,198,320\n",
      "Non-trainable params: 32\n",
      "_________________________________________________________________\n"
     ]
    }
   ],
   "source": [
    "Model.summary()"
   ]
  },
  {
   "cell_type": "code",
   "execution_count": 19,
   "metadata": {},
   "outputs": [],
   "source": [
    "adam = Adam(lr=0.001, decay=1e-06)\n",
    "Model.compile(loss='categorical_crossentropy', optimizer=adam, metrics=['accuracy'])\n",
    "\n",
    "filepath = \"first\" + dataset + \".hdf5\"\n",
    "checkpoint = ModelCheckpoint(filepath, monitor='accuracy', verbose=1, save_best_only=True, mode='max')\n",
    "early_stop = EarlyStopping(monitor='val_loss',patience=2)\n",
    "\n",
    "callbacks_list = [checkpoint]"
   ]
  },
  {
   "cell_type": "code",
   "execution_count": 1,
   "metadata": {},
   "outputs": [],
   "source": [
    "History = Model.fit(x=X_Train, y=Y_Train,epochs=EPOCHS, batch_size = 128, callbacks = callbacks_list)"
   ]
  },
  {
   "cell_type": "code",
   "execution_count": 22,
   "metadata": {},
   "outputs": [],
   "source": [
    "Y_Pred = Model.predict(X_Test)\n",
    "Y_Pred = np.argmax(Y_Pred, axis=1)"
   ]
  },
  {
   "cell_type": "code",
   "execution_count": 23,
   "metadata": {},
   "outputs": [
    {
     "name": "stdout",
     "output_type": "stream",
     "text": [
      "                              precision    recall  f1-score   support\n",
      "\n",
      "                     Alfalfa       1.00      0.97      0.98        30\n",
      "                 Corn-notill       0.99      0.87      0.93      1087\n",
      "                Corn-mintill       1.00      0.89      0.94       615\n",
      "                        Corn       0.99      0.99      0.99       185\n",
      "               Grass-pasture       0.96      0.91      0.93       386\n",
      "                 Grass-trees       0.88      1.00      0.93       547\n",
      "         Grass-pasture-mowed       0.00      0.00      0.00        22\n",
      "               Hay-windrowed       0.98      1.00      0.99       366\n",
      "                        Oats       0.00      0.00      0.00        15\n",
      "              Soybean-notill       0.98      0.86      0.92       720\n",
      "             Soybean-mintill       0.89      0.98      0.93      1824\n",
      "               Soybean-clean       0.93      0.95      0.94       439\n",
      "                       Wheat       0.89      1.00      0.94       154\n",
      "                       Woods       0.95      1.00      0.97       948\n",
      "Buildings-Grass-Trees-Drives       0.96      0.98      0.97       284\n",
      "          Stone-Steel-Towers       0.93      0.95      0.94        65\n",
      "\n",
      "                    accuracy                           0.94      7687\n",
      "                   macro avg       0.83      0.83      0.83      7687\n",
      "                weighted avg       0.94      0.94      0.94      7687\n",
      "\n"
     ]
    },
    {
     "name": "stderr",
     "output_type": "stream",
     "text": [
      "C:\\ProgramData\\Anaconda3\\lib\\site-packages\\sklearn\\metrics\\_classification.py:1221: UndefinedMetricWarning: Precision and F-score are ill-defined and being set to 0.0 in labels with no predicted samples. Use `zero_division` parameter to control this behavior.\n",
      "  _warn_prf(average, modifier, msg_start, len(result))\n"
     ]
    }
   ],
   "source": [
    "Report = (classification_report(np.argmax(Y_Test, axis=1), Y_Pred, target_names=target_names))\n",
    "print(Report)\n",
    "\n",
    "Matrix = (confusion_matrix(np.argmax(Y_Test, axis=1), Y_Pred))"
   ]
  },
  {
   "cell_type": "code",
   "execution_count": 25,
   "metadata": {},
   "outputs": [],
   "source": [
    "Model = make_3d_2(units, dataset)"
   ]
  },
  {
   "cell_type": "code",
   "execution_count": 26,
   "metadata": {},
   "outputs": [
    {
     "name": "stdout",
     "output_type": "stream",
     "text": [
      "Model: \"sequential_1\"\n",
      "_________________________________________________________________\n",
      "Layer (type)                 Output Shape              Param #   \n",
      "=================================================================\n",
      "conv3d_2 (Conv3D)            (None, 23, 23, 24, 8)     512       \n",
      "_________________________________________________________________\n",
      "conv3d_3 (Conv3D)            (None, 21, 21, 20, 16)    5776      \n",
      "_________________________________________________________________\n",
      "conv3d_4 (Conv3D)            (None, 19, 19, 18, 16)    6928      \n",
      "_________________________________________________________________\n",
      "conv3d_5 (Conv3D)            (None, 17, 17, 16, 16)    6928      \n",
      "_________________________________________________________________\n",
      "batch_normalization_1 (Batch (None, 17, 17, 16, 16)    64        \n",
      "_________________________________________________________________\n",
      "reshape_1 (Reshape)          (None, 17, 17, 256)       0         \n",
      "_________________________________________________________________\n",
      "conv2d_1 (Conv2D)            (None, 15, 15, 64)        147520    \n",
      "_________________________________________________________________\n",
      "flatten_1 (Flatten)          (None, 14400)             0         \n",
      "_________________________________________________________________\n",
      "dense_3 (Dense)              (None, 256)               3686656   \n",
      "_________________________________________________________________\n",
      "dropout_2 (Dropout)          (None, 256)               0         \n",
      "_________________________________________________________________\n",
      "dense_4 (Dense)              (None, 128)               32896     \n",
      "_________________________________________________________________\n",
      "dropout_3 (Dropout)          (None, 128)               0         \n",
      "_________________________________________________________________\n",
      "dense_5 (Dense)              (None, 64)                8256      \n",
      "_________________________________________________________________\n",
      "dropout_4 (Dropout)          (None, 64)                0         \n",
      "_________________________________________________________________\n",
      "dense_6 (Dense)              (None, 16)                1040      \n",
      "=================================================================\n",
      "Total params: 3,896,576\n",
      "Trainable params: 3,896,544\n",
      "Non-trainable params: 32\n",
      "_________________________________________________________________\n"
     ]
    }
   ],
   "source": [
    "Model.summary()"
   ]
  },
  {
   "cell_type": "code",
   "execution_count": 27,
   "metadata": {},
   "outputs": [],
   "source": [
    "adam = Adam(lr=0.001, decay=1e-06)\n",
    "Model.compile(loss='categorical_crossentropy', optimizer=adam, metrics=['accuracy'])\n",
    "\n",
    "filepath = \"second\" + dataset + \".hdf5\"\n",
    "checkpoint = ModelCheckpoint(filepath, monitor='accuracy', verbose=1, save_best_only=True, mode='max')\n",
    "early_stop = EarlyStopping(monitor='val_loss',patience=2)\n",
    "\n",
    "callbacks_list = [checkpoint]"
   ]
  },
  {
   "cell_type": "code",
   "execution_count": 28,
   "metadata": {},
   "outputs": [
    {
     "name": "stdout",
     "output_type": "stream",
     "text": [
      "Epoch 1/17\n",
      "21/21 [==============================] - ETA: 0s - loss: 2.8709 - accuracy: 0.1432\n",
      "Epoch 00001: accuracy improved from -inf to 0.14325, saving model to secondIP.hdf5\n",
      "21/21 [==============================] - 42s 2s/step - loss: 2.8709 - accuracy: 0.1432\n",
      "Epoch 2/17\n",
      "21/21 [==============================] - ETA: 0s - loss: 2.2971 - accuracy: 0.2541\n",
      "Epoch 00002: accuracy improved from 0.14325 to 0.25410, saving model to secondIP.hdf5\n",
      "21/21 [==============================] - 39s 2s/step - loss: 2.2971 - accuracy: 0.2541\n",
      "Epoch 3/17\n",
      "21/21 [==============================] - ETA: 0s - loss: 2.0251 - accuracy: 0.3314\n",
      "Epoch 00003: accuracy improved from 0.25410 to 0.33138, saving model to secondIP.hdf5\n",
      "21/21 [==============================] - 39s 2s/step - loss: 2.0251 - accuracy: 0.3314\n",
      "Epoch 4/17\n",
      "21/21 [==============================] - ETA: 0s - loss: 1.8416 - accuracy: 0.3903\n",
      "Epoch 00004: accuracy improved from 0.33138 to 0.39032, saving model to secondIP.hdf5\n",
      "21/21 [==============================] - 39s 2s/step - loss: 1.8416 - accuracy: 0.3903\n",
      "Epoch 5/17\n",
      "21/21 [==============================] - ETA: 0s - loss: 1.5659 - accuracy: 0.4493\n",
      "Epoch 00005: accuracy improved from 0.39032 to 0.44926, saving model to secondIP.hdf5\n",
      "21/21 [==============================] - 39s 2s/step - loss: 1.5659 - accuracy: 0.4493\n",
      "Epoch 6/17\n",
      "21/21 [==============================] - ETA: 0s - loss: 1.3734 - accuracy: 0.5176\n",
      "Epoch 00006: accuracy improved from 0.44926 to 0.51756, saving model to secondIP.hdf5\n",
      "21/21 [==============================] - 39s 2s/step - loss: 1.3734 - accuracy: 0.5176\n",
      "Epoch 7/17\n",
      "21/21 [==============================] - ETA: 0s - loss: 1.2078 - accuracy: 0.5874\n",
      "Epoch 00007: accuracy improved from 0.51756 to 0.58743, saving model to secondIP.hdf5\n",
      "21/21 [==============================] - 40s 2s/step - loss: 1.2078 - accuracy: 0.5874\n",
      "Epoch 8/17\n",
      "21/21 [==============================] - ETA: 0s - loss: 0.9616 - accuracy: 0.6581\n",
      "Epoch 00008: accuracy improved from 0.58743 to 0.65808, saving model to secondIP.hdf5\n",
      "21/21 [==============================] - 40s 2s/step - loss: 0.9616 - accuracy: 0.6581\n",
      "Epoch 9/17\n",
      "21/21 [==============================] - ETA: 0s - loss: 0.7514 - accuracy: 0.7307\n",
      "Epoch 00009: accuracy improved from 0.65808 to 0.73068, saving model to secondIP.hdf5\n",
      "21/21 [==============================] - 41s 2s/step - loss: 0.7514 - accuracy: 0.7307\n",
      "Epoch 10/17\n",
      "21/21 [==============================] - ETA: 0s - loss: 0.6986 - accuracy: 0.7873\n",
      "Epoch 00010: accuracy improved from 0.73068 to 0.78728, saving model to secondIP.hdf5\n",
      "21/21 [==============================] - 44s 2s/step - loss: 0.6986 - accuracy: 0.7873\n",
      "Epoch 11/17\n",
      "21/21 [==============================] - ETA: 0s - loss: 0.5754 - accuracy: 0.8185\n",
      "Epoch 00011: accuracy improved from 0.78728 to 0.81850, saving model to secondIP.hdf5\n",
      "21/21 [==============================] - 42s 2s/step - loss: 0.5754 - accuracy: 0.8185\n",
      "Epoch 12/17\n",
      "21/21 [==============================] - ETA: 0s - loss: 0.5033 - accuracy: 0.8404\n",
      "Epoch 00012: accuracy improved from 0.81850 to 0.84036, saving model to secondIP.hdf5\n",
      "21/21 [==============================] - 41s 2s/step - loss: 0.5033 - accuracy: 0.8404\n",
      "Epoch 13/17\n",
      "21/21 [==============================] - ETA: 0s - loss: 0.4591 - accuracy: 0.8568\n",
      "Epoch 00013: accuracy improved from 0.84036 to 0.85675, saving model to secondIP.hdf5\n",
      "21/21 [==============================] - 39s 2s/step - loss: 0.4591 - accuracy: 0.8568\n",
      "Epoch 14/17\n",
      "21/21 [==============================] - ETA: 0s - loss: 0.4882 - accuracy: 0.8470\n",
      "Epoch 00014: accuracy did not improve from 0.85675\n",
      "21/21 [==============================] - 39s 2s/step - loss: 0.4882 - accuracy: 0.8470\n",
      "Epoch 15/17\n",
      "21/21 [==============================] - ETA: 0s - loss: 0.3970 - accuracy: 0.8724\n",
      "Epoch 00015: accuracy improved from 0.85675 to 0.87237, saving model to secondIP.hdf5\n",
      "21/21 [==============================] - 41s 2s/step - loss: 0.3970 - accuracy: 0.8724\n",
      "Epoch 16/17\n",
      "21/21 [==============================] - ETA: 0s - loss: 0.3826 - accuracy: 0.8770\n",
      "Epoch 00016: accuracy improved from 0.87237 to 0.87705, saving model to secondIP.hdf5\n",
      "21/21 [==============================] - 39s 2s/step - loss: 0.3826 - accuracy: 0.8770\n",
      "Epoch 17/17\n",
      "21/21 [==============================] - ETA: 0s - loss: 0.4047 - accuracy: 0.8770\n",
      "Epoch 00017: accuracy did not improve from 0.87705\n",
      "21/21 [==============================] - 38s 2s/step - loss: 0.4047 - accuracy: 0.8770\n"
     ]
    }
   ],
   "source": [
    "History = Model.fit(x=X_Train, y=Y_Train,epochs=EPOCHS, batch_size = 128, callbacks = callbacks_list)"
   ]
  },
  {
   "cell_type": "code",
   "execution_count": 30,
   "metadata": {},
   "outputs": [],
   "source": [
    "Y_Pred = Model.predict(X_Test)\n",
    "Y_Pred = np.argmax(Y_Pred, axis=1)"
   ]
  },
  {
   "cell_type": "code",
   "execution_count": 31,
   "metadata": {},
   "outputs": [
    {
     "name": "stdout",
     "output_type": "stream",
     "text": [
      "                              precision    recall  f1-score   support\n",
      "\n",
      "                     Alfalfa       0.00      0.00      0.00        30\n",
      "                 Corn-notill       0.86      0.89      0.88      1087\n",
      "                Corn-mintill       0.87      1.00      0.93       615\n",
      "                        Corn       1.00      0.18      0.31       185\n",
      "               Grass-pasture       0.81      0.99      0.89       386\n",
      "                 Grass-trees       0.86      0.99      0.92       547\n",
      "         Grass-pasture-mowed       0.00      0.00      0.00        22\n",
      "               Hay-windrowed       1.00      0.99      0.99       366\n",
      "                        Oats       0.00      0.00      0.00        15\n",
      "              Soybean-notill       0.98      0.96      0.97       720\n",
      "             Soybean-mintill       0.99      0.98      0.98      1824\n",
      "               Soybean-clean       0.69      0.97      0.81       439\n",
      "                       Wheat       0.20      0.01      0.01       154\n",
      "                       Woods       0.97      1.00      0.98       948\n",
      "Buildings-Grass-Trees-Drives       0.97      0.88      0.92       284\n",
      "          Stone-Steel-Towers       0.00      0.00      0.00        65\n",
      "\n",
      "                    accuracy                           0.91      7687\n",
      "                   macro avg       0.64      0.61      0.60      7687\n",
      "                weighted avg       0.89      0.91      0.89      7687\n",
      "\n"
     ]
    }
   ],
   "source": [
    "Report = (classification_report(np.argmax(Y_Test, axis=1), Y_Pred, target_names=target_names))\n",
    "print(Report)\n",
    "\n",
    "Matrix = (confusion_matrix(np.argmax(Y_Test, axis=1), Y_Pred))"
   ]
  }
 ],
 "metadata": {
  "kernelspec": {
   "display_name": "Python 3",
   "language": "python",
   "name": "python3"
  },
  "language_info": {
   "codemirror_mode": {
    "name": "ipython",
    "version": 3
   },
   "file_extension": ".py",
   "mimetype": "text/x-python",
   "name": "python",
   "nbconvert_exporter": "python",
   "pygments_lexer": "ipython3",
   "version": "3.8.3"
  }
 },
 "nbformat": 4,
 "nbformat_minor": 4
}
