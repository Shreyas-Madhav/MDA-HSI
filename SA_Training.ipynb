{
 "cells": [
  {
   "cell_type": "code",
   "execution_count": 1,
   "metadata": {},
   "outputs": [],
   "source": [
    "import numpy as np\n",
    "import pandas as pd\n",
    "import matplotlib.pyplot as plt\n",
    "import seaborn as sns\n",
    "import os\n",
    "import scipy.io as sio\n",
    "from keras.utils import np_utils\n",
    "\n",
    "%matplotlib inline\n",
    "\n",
    "from sklearn.model_selection import train_test_split\n",
    "from sklearn.metrics import confusion_matrix, classification_report, accuracy_score, cohen_kappa_score\n",
    "from sklearn.decomposition import PCA\n",
    "\n",
    "from keras.models import Sequential\n",
    "from keras.layers import Conv2D, MaxPool2D, Flatten, Dense, Reshape, Dropout\n",
    "from keras.layers.normalization import BatchNormalization\n",
    "from keras import optimizers\n",
    "\n",
    "from keras.optimizers import Adam\n",
    "from keras.callbacks import ModelCheckpoint, EarlyStopping\n",
    "\n",
    "import cv2\n",
    "from skimage.util import view_as_windows"
   ]
  },
  {
   "cell_type": "code",
   "execution_count": 2,
   "metadata": {},
   "outputs": [],
   "source": [
    "from config.utils import *\n",
    "from config.models import *"
   ]
  },
  {
   "cell_type": "code",
   "execution_count": 3,
   "metadata": {},
   "outputs": [],
   "source": [
    "######### GLOBAL PARAMETERS #########\n",
    "dataset = 'SA'\n",
    "testSize = 0.84\n",
    "windowSize = 25\n",
    "K = 30 if dataset == 'IP' else 15\n",
    "EPOCHS = 20\n",
    "######### GLOBAL PARAMETERS #########"
   ]
  },
  {
   "cell_type": "code",
   "execution_count": 4,
   "metadata": {},
   "outputs": [],
   "source": [
    "X, Y = loadData(dataset)"
   ]
  },
  {
   "cell_type": "code",
   "execution_count": 5,
   "metadata": {},
   "outputs": [],
   "source": [
    "units, target_names = targets(dataset)"
   ]
  },
  {
   "cell_type": "code",
   "execution_count": 6,
   "metadata": {},
   "outputs": [
    {
     "name": "stdout",
     "output_type": "stream",
     "text": [
      "16\n"
     ]
    }
   ],
   "source": [
    "print(units)"
   ]
  },
  {
   "cell_type": "code",
   "execution_count": 7,
   "metadata": {},
   "outputs": [
    {
     "data": {
      "text/plain": [
       "(512, 217, 204)"
      ]
     },
     "execution_count": 7,
     "metadata": {},
     "output_type": "execute_result"
    }
   ],
   "source": [
    "X.shape"
   ]
  },
  {
   "cell_type": "code",
   "execution_count": 8,
   "metadata": {},
   "outputs": [
    {
     "data": {
      "text/plain": [
       "(512, 217)"
      ]
     },
     "execution_count": 8,
     "metadata": {},
     "output_type": "execute_result"
    }
   ],
   "source": [
    "Y.shape"
   ]
  },
  {
   "cell_type": "code",
   "execution_count": 9,
   "metadata": {},
   "outputs": [
    {
     "name": "stdout",
     "output_type": "stream",
     "text": [
      "X.shape (512, 217, 15)\n",
      "y.shape (512, 217)\n"
     ]
    }
   ],
   "source": [
    "X,pca = applyPCA(X,N=K)\n",
    "ev=pca.explained_variance_ratio_\n",
    "print('X.shape',X.shape)\n",
    "print('y.shape',Y.shape)"
   ]
  },
  {
   "cell_type": "code",
   "execution_count": 10,
   "metadata": {},
   "outputs": [],
   "source": [
    "X , Y = createImageCubes(X,Y,windowSize=windowSize)"
   ]
  },
  {
   "cell_type": "code",
   "execution_count": 11,
   "metadata": {},
   "outputs": [
    {
     "name": "stdout",
     "output_type": "stream",
     "text": [
      "X.shape (54129, 25, 25, 15)\n",
      "y.shape (54129,)\n"
     ]
    }
   ],
   "source": [
    "print('X.shape',X.shape)\n",
    "print('y.shape',Y.shape)"
   ]
  },
  {
   "cell_type": "code",
   "execution_count": 12,
   "metadata": {},
   "outputs": [],
   "source": [
    "X_Train , X_Test , Y_Train, Y_Test = train_test_split(X,Y,test_size=testSize,random_state=345)"
   ]
  },
  {
   "cell_type": "code",
   "execution_count": 13,
   "metadata": {},
   "outputs": [
    {
     "data": {
      "text/plain": [
       "(8660, 16)"
      ]
     },
     "execution_count": 13,
     "metadata": {},
     "output_type": "execute_result"
    }
   ],
   "source": [
    "Y_Train = np_utils.to_categorical(Y_Train)\n",
    "Y_Train.shape"
   ]
  },
  {
   "cell_type": "code",
   "execution_count": 14,
   "metadata": {},
   "outputs": [
    {
     "data": {
      "text/plain": [
       "(8660, 25, 25, 15, 1)"
      ]
     },
     "execution_count": 14,
     "metadata": {},
     "output_type": "execute_result"
    }
   ],
   "source": [
    "X_Train = X_Train.reshape(-1, windowSize, windowSize, K, 1)\n",
    "X_Train.shape"
   ]
  },
  {
   "cell_type": "code",
   "execution_count": 15,
   "metadata": {},
   "outputs": [
    {
     "data": {
      "text/plain": [
       "(45469, 25, 25, 15, 1)"
      ]
     },
     "execution_count": 15,
     "metadata": {},
     "output_type": "execute_result"
    }
   ],
   "source": [
    "X_Test = X_Test.reshape(-1, windowSize, windowSize, K, 1)\n",
    "X_Test.shape"
   ]
  },
  {
   "cell_type": "code",
   "execution_count": 16,
   "metadata": {},
   "outputs": [
    {
     "data": {
      "text/plain": [
       "(45469, 16)"
      ]
     },
     "execution_count": 16,
     "metadata": {},
     "output_type": "execute_result"
    }
   ],
   "source": [
    "Y_Test = np_utils.to_categorical(Y_Test)\n",
    "Y_Test.shape"
   ]
  },
  {
   "cell_type": "code",
   "execution_count": 17,
   "metadata": {},
   "outputs": [
    {
     "data": {
      "text/plain": [
       "(8660, 25, 25, 15, 1)"
      ]
     },
     "execution_count": 17,
     "metadata": {},
     "output_type": "execute_result"
    }
   ],
   "source": [
    "X_Train.shape"
   ]
  },
  {
   "cell_type": "code",
   "execution_count": 18,
   "metadata": {},
   "outputs": [],
   "source": [
    "Model = make_3d_1(units, dataset)"
   ]
  },
  {
   "cell_type": "code",
   "execution_count": 19,
   "metadata": {},
   "outputs": [
    {
     "name": "stdout",
     "output_type": "stream",
     "text": [
      "Model: \"sequential\"\n",
      "_________________________________________________________________\n",
      "Layer (type)                 Output Shape              Param #   \n",
      "=================================================================\n",
      "conv3d (Conv3D)              (None, 23, 23, 11, 8)     368       \n",
      "_________________________________________________________________\n",
      "conv3d_1 (Conv3D)            (None, 21, 21, 9, 16)     3472      \n",
      "_________________________________________________________________\n",
      "max_pooling3d (MaxPooling3D) (None, 10, 10, 4, 16)     0         \n",
      "_________________________________________________________________\n",
      "batch_normalization (BatchNo (None, 10, 10, 4, 16)     64        \n",
      "_________________________________________________________________\n",
      "reshape (Reshape)            (None, 10, 10, 64)        0         \n",
      "_________________________________________________________________\n",
      "conv2d (Conv2D)              (None, 8, 8, 64)          36928     \n",
      "_________________________________________________________________\n",
      "flatten (Flatten)            (None, 4096)              0         \n",
      "_________________________________________________________________\n",
      "dense (Dense)                (None, 256)               1048832   \n",
      "_________________________________________________________________\n",
      "dropout (Dropout)            (None, 256)               0         \n",
      "_________________________________________________________________\n",
      "dense_1 (Dense)              (None, 128)               32896     \n",
      "_________________________________________________________________\n",
      "dropout_1 (Dropout)          (None, 128)               0         \n",
      "_________________________________________________________________\n",
      "dense_2 (Dense)              (None, 16)                2064      \n",
      "=================================================================\n",
      "Total params: 1,124,624\n",
      "Trainable params: 1,124,592\n",
      "Non-trainable params: 32\n",
      "_________________________________________________________________\n"
     ]
    }
   ],
   "source": [
    "Model.summary()"
   ]
  },
  {
   "cell_type": "code",
   "execution_count": 20,
   "metadata": {},
   "outputs": [],
   "source": [
    "adam = Adam(lr=0.001, decay=1e-06)\n",
    "Model.compile(loss='categorical_crossentropy', optimizer=adam, metrics=['accuracy'])\n",
    "\n",
    "filepath = \"first\" + dataset + \".hdf5\"\n",
    "checkpoint = ModelCheckpoint(filepath, monitor='accuracy', verbose=1, save_best_only=True, mode='max')\n",
    "early_stop = EarlyStopping(monitor='val_loss',patience=2)\n",
    "\n",
    "callbacks_list = [checkpoint]"
   ]
  },
  {
   "cell_type": "code",
   "execution_count": 2,
   "metadata": {
    "scrolled": true
   },
   "outputs": [],
   "source": [
    "History = Model.fit(x=X_Train, y=Y_Train,epochs=EPOCHS, batch_size = 128, callbacks = callbacks_list)"
   ]
  },
  {
   "cell_type": "code",
   "execution_count": 22,
   "metadata": {},
   "outputs": [],
   "source": [
    "Y_Pred = Model.predict(X_Test)\n",
    "Y_Pred = np.argmax(Y_Pred, axis=1)"
   ]
  },
  {
   "cell_type": "code",
   "execution_count": 23,
   "metadata": {},
   "outputs": [
    {
     "name": "stdout",
     "output_type": "stream",
     "text": [
      "                           precision    recall  f1-score   support\n",
      "\n",
      "    Brocoli_green_weeds_1       1.00      1.00      1.00      1417\n",
      "    Brocoli_green_weeds_2       1.00      1.00      1.00      2598\n",
      "                   Fallow       1.00      0.98      0.99      1367\n",
      "        Fallow_rough_plow       0.95      1.00      0.98       983\n",
      "            Fallow_smooth       1.00      0.97      0.99      1852\n",
      "                  Stubble       1.00      1.00      1.00      2779\n",
      "                   Celery       0.98      1.00      0.99      2463\n",
      "         Grapes_untrained       0.76      1.00      0.86      7885\n",
      "     Soil_vinyard_develop       1.00      1.00      1.00      4324\n",
      "Corn_senesced_green_weeds       1.00      0.99      1.00      2305\n",
      "      Lettuce_romaine_4wk       1.00      0.99      0.99       777\n",
      "      Lettuce_romaine_5wk       1.00      0.98      0.99      1376\n",
      "      Lettuce_romaine_6wk       0.97      0.99      0.98       632\n",
      "      Lettuce_romaine_7wk       0.99      1.00      1.00       736\n",
      "        Vinyard_untrained       1.00      0.50      0.67      5083\n",
      " Vinyard_vertical_trellis       1.00      1.00      1.00      1314\n",
      "\n",
      "                 accuracy                           0.93     37891\n",
      "                macro avg       0.98      0.96      0.96     37891\n",
      "             weighted avg       0.95      0.93      0.92     37891\n",
      "\n"
     ]
    }
   ],
   "source": [
    "Report = (classification_report(np.argmax(Y_Test, axis=1), Y_Pred, target_names=target_names))\n",
    "print(Report)\n",
    "\n",
    "Matrix = (confusion_matrix(np.argmax(Y_Test, axis=1), Y_Pred))"
   ]
  },
  {
   "cell_type": "code",
   "execution_count": 19,
   "metadata": {},
   "outputs": [],
   "source": [
    "Model = make_3d_2(units, dataset)"
   ]
  },
  {
   "cell_type": "code",
   "execution_count": 20,
   "metadata": {},
   "outputs": [
    {
     "name": "stdout",
     "output_type": "stream",
     "text": [
      "Model: \"sequential_1\"\n",
      "_________________________________________________________________\n",
      "Layer (type)                 Output Shape              Param #   \n",
      "=================================================================\n",
      "conv3d_2 (Conv3D)            (None, 23, 23, 9, 8)      512       \n",
      "_________________________________________________________________\n",
      "conv3d_3 (Conv3D)            (None, 21, 21, 5, 16)     5776      \n",
      "_________________________________________________________________\n",
      "conv3d_4 (Conv3D)            (None, 19, 19, 3, 16)     6928      \n",
      "_________________________________________________________________\n",
      "conv3d_5 (Conv3D)            (None, 17, 17, 1, 16)     6928      \n",
      "_________________________________________________________________\n",
      "batch_normalization_1 (Batch (None, 17, 17, 1, 16)     64        \n",
      "_________________________________________________________________\n",
      "reshape_1 (Reshape)          (None, 17, 17, 16)        0         \n",
      "_________________________________________________________________\n",
      "conv2d_1 (Conv2D)            (None, 15, 15, 64)        9280      \n",
      "_________________________________________________________________\n",
      "flatten_1 (Flatten)          (None, 14400)             0         \n",
      "_________________________________________________________________\n",
      "dense_3 (Dense)              (None, 256)               3686656   \n",
      "_________________________________________________________________\n",
      "dropout_2 (Dropout)          (None, 256)               0         \n",
      "_________________________________________________________________\n",
      "dense_4 (Dense)              (None, 128)               32896     \n",
      "_________________________________________________________________\n",
      "dropout_3 (Dropout)          (None, 128)               0         \n",
      "_________________________________________________________________\n",
      "dense_5 (Dense)              (None, 64)                8256      \n",
      "_________________________________________________________________\n",
      "dropout_4 (Dropout)          (None, 64)                0         \n",
      "_________________________________________________________________\n",
      "dense_6 (Dense)              (None, 16)                1040      \n",
      "=================================================================\n",
      "Total params: 3,758,336\n",
      "Trainable params: 3,758,304\n",
      "Non-trainable params: 32\n",
      "_________________________________________________________________\n"
     ]
    }
   ],
   "source": [
    "Model.summary()"
   ]
  },
  {
   "cell_type": "code",
   "execution_count": 21,
   "metadata": {},
   "outputs": [],
   "source": [
    "adam = Adam(lr=0.001, decay=1e-06)\n",
    "Model.compile(loss='categorical_crossentropy', optimizer=adam, metrics=['accuracy'])\n",
    "\n",
    "filepath = \"second\" + dataset + \".hdf5\"\n",
    "checkpoint = ModelCheckpoint(filepath, monitor='accuracy', verbose=1, save_best_only=True, mode='max')\n",
    "early_stop = EarlyStopping(monitor='val_loss',patience=2)\n",
    "\n",
    "callbacks_list = [checkpoint]"
   ]
  },
  {
   "cell_type": "code",
   "execution_count": 1,
   "metadata": {},
   "outputs": [],
   "source": [
    "History = Model.fit(x=X_Train, y=Y_Train,epochs=EPOCHS, batch_size = 128, callbacks = callbacks_list)"
   ]
  },
  {
   "cell_type": "code",
   "execution_count": 23,
   "metadata": {},
   "outputs": [],
   "source": [
    "Y_Pred = Model.predict(X_Test)\n",
    "Y_Pred = np.argmax(Y_Pred, axis=1)"
   ]
  },
  {
   "cell_type": "code",
   "execution_count": 24,
   "metadata": {},
   "outputs": [
    {
     "name": "stdout",
     "output_type": "stream",
     "text": [
      "                           precision    recall  f1-score   support\n",
      "\n",
      "    Brocoli_green_weeds_1       1.00      1.00      1.00      1706\n",
      "    Brocoli_green_weeds_2       0.97      1.00      0.98      3110\n",
      "                   Fallow       1.00      0.67      0.80      1662\n",
      "        Fallow_rough_plow       1.00      0.82      0.90      1171\n",
      "            Fallow_smooth       0.75      1.00      0.85      2228\n",
      "                  Stubble       1.00      1.00      1.00      3338\n",
      "                   Celery       1.00      1.00      1.00      2984\n",
      "         Grapes_untrained       0.98      0.87      0.92      9447\n",
      "     Soil_vinyard_develop       1.00      1.00      1.00      5181\n",
      "Corn_senesced_green_weeds       1.00      1.00      1.00      2752\n",
      "      Lettuce_romaine_4wk       0.99      0.34      0.51       907\n",
      "      Lettuce_romaine_5wk       1.00      0.96      0.98      1637\n",
      "      Lettuce_romaine_6wk       0.53      0.99      0.69       773\n",
      "      Lettuce_romaine_7wk       0.99      0.98      0.98       889\n",
      "        Vinyard_untrained       0.84      0.97      0.90      6119\n",
      " Vinyard_vertical_trellis       0.99      1.00      0.99      1565\n",
      "\n",
      "                 accuracy                           0.94     45469\n",
      "                macro avg       0.94      0.91      0.91     45469\n",
      "             weighted avg       0.95      0.94      0.94     45469\n",
      "\n"
     ]
    }
   ],
   "source": [
    "Report = (classification_report(np.argmax(Y_Test, axis=1), Y_Pred, target_names=target_names))\n",
    "print(Report)\n",
    "Matrix = (confusion_matrix(np.argmax(Y_Test, axis=1), Y_Pred))"
   ]
  }
 ],
 "metadata": {
  "kernelspec": {
   "display_name": "Python 3",
   "language": "python",
   "name": "python3"
  },
  "language_info": {
   "codemirror_mode": {
    "name": "ipython",
    "version": 3
   },
   "file_extension": ".py",
   "mimetype": "text/x-python",
   "name": "python",
   "nbconvert_exporter": "python",
   "pygments_lexer": "ipython3",
   "version": "3.8.3"
  }
 },
 "nbformat": 4,
 "nbformat_minor": 4
}
